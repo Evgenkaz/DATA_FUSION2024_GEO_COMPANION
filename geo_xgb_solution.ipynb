{
 "cells": [
  {
   "cell_type": "markdown",
   "id": "75b97b0a-b7ea-4312-ab15-08f3ec738991",
   "metadata": {},
   "source": [
    "<h2 align=\"center\" style=\"color:Black\"> Companion  Геоаналитика </h2>\n",
    "\n",
    "\n",
    "<b>Решение:</b>\n",
    "1. Получаем матрицу признаков на активности клиентов в локациях\n",
    "2. Используем кросс валидацию <b>MultilabelStratifiedKFold</b>\n",
    "3. Для загрузки решения обучаем и сохраняем 7 моделей <b>XGBClassifier</b>\n",
    "4. Валидация <b>9.48</b>, Паблик <b>9.27</b>"
   ]
  },
  {
   "cell_type": "code",
   "execution_count": 1,
   "id": "35ac590a-9886-4c17-8afb-ff5e829e34fd",
   "metadata": {},
   "outputs": [],
   "source": [
    "from pathlib import Path\n",
    "import pandas as pd\n",
    "import h3\n",
    "import numpy as np\n",
    "from tqdm import tqdm\n",
    "import json\n",
    "import joblib\n",
    "from typing import List\n",
    "from xgboost import XGBClassifier\n",
    "from statistics import mean\n",
    "from sklearn.svm import SVC\n",
    "from sklearn.pipeline import Pipeline\n",
    "from sklearn.preprocessing import StandardScaler\n",
    "from sklearn.model_selection import GridSearchCV\n",
    "from sklearn.decomposition import PCA\n",
    "import warnings\n",
    "warnings.filterwarnings('ignore')"
   ]
  },
  {
   "cell_type": "code",
   "execution_count": 2,
   "id": "98fa6b7d",
   "metadata": {},
   "outputs": [],
   "source": [
    "# метрика контеста\n",
    "def mean_binary_cross_entropy(predictuion, target):\n",
    "    eps = 1e-8\n",
    "    mbce = (-np.log(np.clip(predictuion, eps, 1 - eps)) * target \\\n",
    "           - np.log(np.clip(1 - predictuion, eps, 1 - eps)) * (1 - target)).sum(axis=1).mean()\n",
    "    return mbce"
   ]
  },
  {
   "cell_type": "code",
   "execution_count": 3,
   "id": "09989ea8-3e1d-4090-a791-a0c448a48f44",
   "metadata": {},
   "outputs": [],
   "source": [
    "data_root = ''\n",
    "hexses_target_path = 'hexses_target.lst'\n",
    "hexses_data_path = 'hexses_data.lst'\n",
    "\n",
    "train_data_fn   = 'transactions.parquet'\n",
    "train_target_fn =  'target.parquet'"
   ]
  },
  {
   "cell_type": "code",
   "execution_count": 4,
   "id": "1728137c-c203-4203-8d8a-cc29630b9674",
   "metadata": {},
   "outputs": [],
   "source": [
    "with open(hexses_target_path, \"r\") as f:\n",
    "    hexses_target = [x.strip() for x in f.readlines()]"
   ]
  },
  {
   "cell_type": "code",
   "execution_count": 5,
   "id": "44be83cf-8f76-4e94-a3f3-d8894ef40ec0",
   "metadata": {},
   "outputs": [],
   "source": [
    "with open(hexses_data_path, \"r\") as f:\n",
    "    hexses_data = [x.strip() for x in f.readlines()]"
   ]
  },
  {
   "cell_type": "code",
   "execution_count": 6,
   "id": "7d1f8f3e-a495-4660-a73f-5d48b29c28ff",
   "metadata": {},
   "outputs": [],
   "source": [
    "transactions = pd.read_parquet(train_data_fn)"
   ]
  },
  {
   "cell_type": "code",
   "execution_count": 7,
   "id": "e5c4ba94",
   "metadata": {},
   "outputs": [
    {
     "name": "stderr",
     "output_type": "stream",
     "text": [
      "100%|███████████████████████████████████| 8154/8154 [00:00<00:00, 728364.49it/s]\n"
     ]
    }
   ],
   "source": [
    "data_coordinates = []\n",
    "for location in tqdm(hexses_data):\n",
    "    lat, lng = h3.h3_to_geo(location)\n",
    "    data_coordinates.append([location,lat, lng])\n",
    "coordinates_df = pd.DataFrame(data_coordinates,columns=['h3_09','lat','lng'])"
   ]
  },
  {
   "cell_type": "code",
   "execution_count": 8,
   "id": "3bffb544",
   "metadata": {},
   "outputs": [],
   "source": [
    "transactions = transactions.merge(coordinates_df,how='left',on='h3_09')"
   ]
  },
  {
   "cell_type": "code",
   "execution_count": 9,
   "id": "d124b033",
   "metadata": {},
   "outputs": [
    {
     "name": "stderr",
     "output_type": "stream",
     "text": [
      "100%|██████████████████████████████████| 1657/1657 [00:00<00:00, 1337302.62it/s]\n"
     ]
    }
   ],
   "source": [
    "hexses_target_dict = {}\n",
    "for location in tqdm(hexses_target):\n",
    "    hexses_target_dict[location] = h3.h3_to_geo(location)"
   ]
  },
  {
   "cell_type": "code",
   "execution_count": 10,
   "id": "c8e721f5",
   "metadata": {},
   "outputs": [
    {
     "data": {
      "text/plain": [
       "['8911aa4c2a3ffff', '8911aa63473ffff', '8911aa79c23ffff']"
      ]
     },
     "execution_count": 10,
     "metadata": {},
     "output_type": "execute_result"
    }
   ],
   "source": [
    "# Список локаций которых нет в транзакциях\n",
    "loc_out = [x for x in hexses_target if x not in hexses_data]\n",
    "loc_out"
   ]
  },
  {
   "cell_type": "code",
   "execution_count": 11,
   "id": "1cc16416",
   "metadata": {},
   "outputs": [
    {
     "data": {
      "text/plain": [
       "(69337, 1657)"
      ]
     },
     "execution_count": 11,
     "metadata": {},
     "output_type": "execute_result"
    }
   ],
   "source": [
    "target = (\n",
    "    pd.read_parquet(train_target_fn)\n",
    "    .assign(customer_id = lambda x: x.customer_id.astype(int))\n",
    "    .pipe(lambda x: pd.pivot(x.assign(v = 1.), index='customer_id', columns='h3_09', values='v'))\n",
    "    .pipe(lambda x: x.reindex(sorted(x.columns), axis=1)) # Сортируем столбцы по порядку\n",
    "    .sort_values(by='customer_id') # сортируем строки\n",
    "    .fillna(0)\n",
    ")\n",
    "target.shape"
   ]
  },
  {
   "cell_type": "code",
   "execution_count": 12,
   "id": "4944dbae-d3b0-4e9b-8fdd-fc7d0848a18a",
   "metadata": {},
   "outputs": [],
   "source": [
    "\"\"\"\n",
    "Эвристика основана на том, что чем чаще клиент совершает транзакции в локации тем больше вероятность,\n",
    "что он снимет наличность.\n",
    "\n",
    "\"\"\"\n",
    "class Personal():\n",
    "   \n",
    "    def __init__(self, probability: float):\n",
    "        self.probability = probability\n",
    "        \n",
    "\n",
    "    def fit_predict(self, transactions: pd.DataFrame, hexses_target: List[np.array]):\n",
    "        \n",
    "        customer_list = []\n",
    "        for customer_id, data in tqdm(transactions.groupby(\"customer_id\")):\n",
    "            location = data.h3_09.tolist()\n",
    "            loc_text = []\n",
    "            loc_feature = []\n",
    "            for loc in hexses_target:\n",
    "                if loc in location:\n",
    "                    loc_count = location.count(loc)# Получаем вероятность отшошением кол-ва активностей на общую активность клиента\n",
    "                    loc_feature.append((loc_count/len(location)))\n",
    "                    loc_text.append(loc)\n",
    "                else:\n",
    "                    loc_feature.append(self.probability)#если нет активности константной вероятностью\n",
    "                    loc_text.append(loc)\n",
    "            \n",
    "            customer_list.append([customer_id]+loc_feature)\n",
    "        return pd.DataFrame(customer_list, columns = ['customer_id']+loc_text)"
   ]
  },
  {
   "cell_type": "code",
   "execution_count": 13,
   "id": "c3173cb1-490f-4cbd-914f-a71c23c2c997",
   "metadata": {},
   "outputs": [
    {
     "name": "stderr",
     "output_type": "stream",
     "text": [
      "100%|███████████████████████████████████| 69337/69337 [00:40<00:00, 1728.97it/s]\n"
     ]
    }
   ],
   "source": [
    "model = Personal(probability = 0.00110555)\n",
    "customer_df = model.fit_predict(transactions, hexses_target)"
   ]
  },
  {
   "cell_type": "code",
   "execution_count": 16,
   "id": "242ccd33-427f-43a0-a987-9289b91f39e0",
   "metadata": {},
   "outputs": [
    {
     "name": "stdout",
     "output_type": "stream",
     "text": [
      "MBCE: 13.859825728557903\n"
     ]
    }
   ],
   "source": [
    "print(f'MBCE: {mean_binary_cross_entropy(customer_df[target.columns].values,target)}')"
   ]
  },
  {
   "cell_type": "code",
   "execution_count": 21,
   "id": "77a10f44",
   "metadata": {},
   "outputs": [],
   "source": [
    "def count_transform(df: pd.DataFrame,  hexses_data: List[np.ndarray]) -> pd.DataFrame:\n",
    "    \"\"\"\n",
    "    Создание матрицы признаков на активности в каждой локации если активности нет заполняется -1\n",
    "\n",
    "    \"\"\"\n",
    "\n",
    "    data_features = []\n",
    "    for customer_id, data in tqdm(df.groupby(\"customer_id\")):\n",
    "    \n",
    "        location = data.h3_09.tolist()\n",
    "        loc_feature =[]\n",
    "        loc_text = []\n",
    "     \n",
    "        for loc in hexses_data:\n",
    "            \n",
    "            if loc in location:\n",
    "                loc_count = data[data.h3_09==loc]['count'].sum()# суммируем все активности в локации\n",
    "                loc_feature.append(loc_count)\n",
    "                loc_text.append(loc) \n",
    "            else:\n",
    "                loc_feature.append(-1)\n",
    "                loc_text.append(loc)\n",
    "\n",
    "        data_features.append([customer_id]+loc_feature)\n",
    "    return pd.DataFrame(data_features, columns = ['customer_id']+loc_text)"
   ]
  },
  {
   "cell_type": "code",
   "execution_count": 22,
   "id": "85c59f40",
   "metadata": {},
   "outputs": [
    {
     "name": "stderr",
     "output_type": "stream",
     "text": [
      "100%|████████████████████████████████████| 69337/69337 [06:40<00:00, 173.06it/s]\n"
     ]
    }
   ],
   "source": [
    "train_data = count_transform(transactions,hexses_data)"
   ]
  },
  {
   "cell_type": "code",
   "execution_count": 23,
   "id": "c75ee2f2-363b-40b2-b3cd-0cc2ae7ec47c",
   "metadata": {},
   "outputs": [],
   "source": [
    "train_data = train_data.drop('customer_id',axis=1)"
   ]
  },
  {
   "cell_type": "code",
   "execution_count": 25,
   "id": "b7032f52-8293-4afc-8716-b3dcf8fa831b",
   "metadata": {},
   "outputs": [
    {
     "name": "stdout",
     "output_type": "stream",
     "text": [
      "Fold: 0\n",
      "TRAIN: [    0     1     2 ... 69333 69334 69336] TEST: [    4     8    13 ... 69321 69331 69335]\n",
      "[0]\tvalidation_0-logloss:0.09535\n",
      "[5]\tvalidation_0-logloss:0.02386\n",
      "[10]\tvalidation_0-logloss:0.00921\n",
      "[15]\tvalidation_0-logloss:0.00623\n",
      "[20]\tvalidation_0-logloss:0.00571\n",
      "[25]\tvalidation_0-logloss:0.00567\n",
      "[28]\tvalidation_0-logloss:0.00569\n",
      "Результат log_loss на трейн: 5.744679342329822\n",
      "Результат log_loss на тесте: 9.140721244491193\n",
      "----------->\n",
      "Результат MBCE на трейн: 5.0017437917517045\n",
      "Результат MBCE на тесте: 9.388355902041063\n",
      "Fold: 1\n",
      "TRAIN: [    0     1     2 ... 69333 69335 69336] TEST: [    9    24    27 ... 69326 69327 69334]\n",
      "[0]\tvalidation_0-logloss:0.09537\n",
      "[5]\tvalidation_0-logloss:0.02389\n",
      "[10]\tvalidation_0-logloss:0.00925\n",
      "[15]\tvalidation_0-logloss:0.00628\n",
      "[20]\tvalidation_0-logloss:0.00577\n",
      "[25]\tvalidation_0-logloss:0.00574\n",
      "[28]\tvalidation_0-logloss:0.00577\n",
      "Результат log_loss на трейн: 5.727192745574639\n",
      "Результат log_loss на тесте: 9.25196023450062\n",
      "----------->\n",
      "Результат MBCE на трейн: 4.987264896998873\n",
      "Результат MBCE на тесте: 9.492580015493113\n",
      "Fold: 2\n",
      "TRAIN: [    3     4     5 ... 69333 69334 69335] TEST: [    0     1     2 ... 69309 69314 69336]\n",
      "[0]\tvalidation_0-logloss:0.09536\n",
      "[5]\tvalidation_0-logloss:0.02389\n",
      "[10]\tvalidation_0-logloss:0.00925\n",
      "[15]\tvalidation_0-logloss:0.00628\n",
      "[20]\tvalidation_0-logloss:0.00577\n",
      "[25]\tvalidation_0-logloss:0.00573\n",
      "[29]\tvalidation_0-logloss:0.00577\n",
      "Результат log_loss на трейн: 5.657329497354779\n",
      "Результат log_loss на тесте: 9.233077261830854\n",
      "----------->\n",
      "Результат MBCE на трейн: 4.9006911036429885\n",
      "Результат MBCE на тесте: 9.492520773739741\n",
      "Fold: 3\n",
      "TRAIN: [    0     1     2 ... 69334 69335 69336] TEST: [    5    15    19 ... 69319 69320 69323]\n",
      "[0]\tvalidation_0-logloss:0.09533\n",
      "[5]\tvalidation_0-logloss:0.02384\n",
      "[10]\tvalidation_0-logloss:0.00919\n",
      "[15]\tvalidation_0-logloss:0.00620\n",
      "[20]\tvalidation_0-logloss:0.00568\n",
      "[25]\tvalidation_0-logloss:0.00565\n",
      "[28]\tvalidation_0-logloss:0.00568\n",
      "Результат log_loss на трейн: 5.755011361045383\n",
      "Результат log_loss на тесте: 9.072425692349302\n",
      "----------->\n",
      "Результат MBCE на трейн: 5.0096376390631026\n",
      "Результат MBCE на тесте: 9.349065784890922\n",
      "Fold: 4\n",
      "TRAIN: [    0     1     2 ... 69334 69335 69336] TEST: [   10    22    30 ... 69328 69329 69332]\n",
      "[0]\tvalidation_0-logloss:0.09532\n",
      "[5]\tvalidation_0-logloss:0.02383\n",
      "[10]\tvalidation_0-logloss:0.00917\n",
      "[15]\tvalidation_0-logloss:0.00619\n",
      "[20]\tvalidation_0-logloss:0.00567\n",
      "[25]\tvalidation_0-logloss:0.00563\n",
      "[28]\tvalidation_0-logloss:0.00565\n",
      "Результат log_loss на трейн: 5.763473913108468\n",
      "Результат log_loss на тесте: 9.035218260906499\n",
      "----------->\n",
      "Результат MBCE на трейн: 5.016459307766909\n",
      "Результат MBCE на тесте: 9.317204875314433\n",
      "Fold: 5\n",
      "TRAIN: [    0     1     2 ... 69334 69335 69336] TEST: [   17    18    20 ... 69318 69330 69333]\n",
      "[0]\tvalidation_0-logloss:0.09536\n",
      "[5]\tvalidation_0-logloss:0.02389\n",
      "[10]\tvalidation_0-logloss:0.00926\n",
      "[15]\tvalidation_0-logloss:0.00630\n",
      "[20]\tvalidation_0-logloss:0.00579\n",
      "[25]\tvalidation_0-logloss:0.00575\n",
      "[28]\tvalidation_0-logloss:0.00578\n",
      "Результат log_loss на трейн: 5.72993664561288\n",
      "Результат log_loss на тесте: 9.28335124940479\n",
      "----------->\n",
      "Результат MBCE на трейн: 4.989985561083806\n",
      "Результат MBCE на тесте: 9.52696639419862\n",
      "Fold: 6\n",
      "TRAIN: [    0     1     2 ... 69334 69335 69336] TEST: [    3     6    14 ... 69310 69322 69324]\n",
      "[0]\tvalidation_0-logloss:0.09537\n",
      "[5]\tvalidation_0-logloss:0.02391\n",
      "[10]\tvalidation_0-logloss:0.00929\n",
      "[15]\tvalidation_0-logloss:0.00631\n",
      "[20]\tvalidation_0-logloss:0.00580\n",
      "[25]\tvalidation_0-logloss:0.00577\n",
      "[27]\tvalidation_0-logloss:0.00578\n",
      "Результат log_loss на трейн: 5.7289185135576375\n",
      "Результат log_loss на тесте: 9.29161326128382\n",
      "----------->\n",
      "Результат MBCE на трейн: 4.989520178899571\n",
      "Результат MBCE на тесте: 9.544936879430013\n"
     ]
    }
   ],
   "source": [
    "from iterstrat.ml_stratifiers import RepeatedMultilabelStratifiedKFold, MultilabelStratifiedKFold\n",
    "from sklearn.metrics import log_loss\n",
    "\n",
    "train_scores=[]\n",
    "val_scores = []\n",
    "\n",
    "MBCE_train_scores=[]\n",
    "MBCE_val_scores = []\n",
    "\n",
    "rmskf = MultilabelStratifiedKFold(n_splits=7, shuffle=True, random_state=42)\n",
    "\n",
    "for fold, (train_index, test_index) in enumerate(rmskf.split(train_data, target)):\n",
    "    print(f'Fold: {fold}')\n",
    "    print(\"TRAIN:\", train_index, \"TEST:\", test_index)\n",
    "    X_train, X_val = train_data.iloc[train_index], train_data.iloc[test_index]\n",
    "    y_train, y_val = target.iloc[train_index], target.iloc[test_index]\n",
    "\n",
    "    model = XGBClassifier(n_estimators=400,depth=4,nthread = -1,sampling_method='gradient_based',\n",
    "                      objective=\"binary:logistic\",tree_method='gpu_hist')\n",
    "   \n",
    "   \n",
    "    model.fit(X_train, y_train,eval_set=[(X_val, y_val)],\n",
    "          verbose=5,early_stopping_rounds=5)\n",
    "    joblib.dump(model, f'model_{fold}.pkl')\n",
    "  \n",
    "            \n",
    "    train_preds = model.predict_proba(X_train)\n",
    "    valid_preds = model.predict_proba(X_val) \n",
    "            \n",
    "    train_score = log_loss(y_train, train_preds)\n",
    "    val_score = log_loss(y_val, valid_preds)\n",
    "    \n",
    "    print(f'Результат log_loss на трейн: {train_score}')\n",
    "    print(f'Результат log_loss на тесте: {val_score}')\n",
    "    print('----------->')\n",
    "    print(f'Результат MBCE на трейн: {mean_binary_cross_entropy(train_preds,y_train)}')\n",
    "    print(f'Результат MBCE на тесте: {mean_binary_cross_entropy(valid_preds,y_val)}')\n",
    "    \n",
    "            \n",
    "    train_scores.append(train_score)\n",
    "    val_scores.append(val_score)\n",
    "            \n",
    "    MBCE_train_scores.append(mean_binary_cross_entropy(train_preds,y_train))\n",
    "    MBCE_val_scores.append(mean_binary_cross_entropy(valid_preds,y_val))"
   ]
  },
  {
   "cell_type": "code",
   "execution_count": 26,
   "id": "f46b845c-fbd5-4b15-ad46-d19bccac13d8",
   "metadata": {},
   "outputs": [
    {
     "name": "stdout",
     "output_type": "stream",
     "text": [
      "MBCE на валидации: 9.4445186607297\n"
     ]
    }
   ],
   "source": [
    "print(f'MBCE на валидации: {sum(MBCE_val_scores)/len(MBCE_val_scores)}')"
   ]
  },
  {
   "cell_type": "code",
   "execution_count": null,
   "id": "ba3b7273-78bc-460f-8c09-e5f120ccba79",
   "metadata": {},
   "outputs": [],
   "source": []
  }
 ],
 "metadata": {
  "kernelspec": {
   "display_name": "Python 3 (ipykernel)",
   "language": "python",
   "name": "python3"
  },
  "language_info": {
   "codemirror_mode": {
    "name": "ipython",
    "version": 3
   },
   "file_extension": ".py",
   "mimetype": "text/x-python",
   "name": "python",
   "nbconvert_exporter": "python",
   "pygments_lexer": "ipython3",
   "version": "3.10.12"
  }
 },
 "nbformat": 4,
 "nbformat_minor": 5
}
